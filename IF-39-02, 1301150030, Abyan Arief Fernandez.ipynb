{
 "cells": [
  {
   "cell_type": "code",
   "execution_count": 65,
   "metadata": {
    "collapsed": true
   },
   "outputs": [],
   "source": [
    "import pandas as pd"
   ]
  },
  {
   "cell_type": "code",
   "execution_count": 66,
   "metadata": {},
   "outputs": [],
   "source": [
    "data = pd.read_csv(\"D:/MACHINE LEAENING/TUGAS 0A/test.csv\")"
   ]
  },
  {
   "cell_type": "code",
   "execution_count": 67,
   "metadata": {
    "collapsed": true
   },
   "outputs": [],
   "source": [
    "Role = []"
   ]
  },
  {
   "cell_type": "code",
   "execution_count": 68,
   "metadata": {},
   "outputs": [],
   "source": [
    "for n in range(len(data)):\n",
    "    if data[\"movementSpeed\"][n] >= 270:\n",
    "        Role.append(\"MARKSMAN\")\n",
    "    elif data[\"mana\"][n] >= 500:\n",
    "        Role.append(\"MAGE\")\n",
    "    elif data[\"armor\"][n] >= 25:\n",
    "        Role.append(\"TANK\")\n",
    "    elif data[\"physicalAttack\"][n] >= 121:\n",
    "        Role.append(\"ASSASSIN\")\n",
    "    elif data[\"hp\"][n] >= 2580:\n",
    "        Role.append(\"FIGHTER\")\n",
    "    else:\n",
    "        Role.append(\"SUPPORT\")"
   ]
  },
  {
   "cell_type": "code",
   "execution_count": 69,
   "metadata": {},
   "outputs": [],
   "source": [
    "df = pd.DataFrame({\"name\" : data[\"name\"], \"role\" : Role})"
   ]
  },
  {
   "cell_type": "code",
   "execution_count": 70,
   "metadata": {},
   "outputs": [],
   "source": [
    "df.to_csv(\"prediction.csv\", index = False)"
   ]
  },
  {
   "cell_type": "code",
   "execution_count": null,
   "metadata": {
    "collapsed": true
   },
   "outputs": [],
   "source": []
  }
 ],
 "metadata": {
  "kernelspec": {
   "display_name": "Python 3",
   "language": "python",
   "name": "python3"
  },
  "language_info": {
   "codemirror_mode": {
    "name": "ipython",
    "version": 3
   },
   "file_extension": ".py",
   "mimetype": "text/x-python",
   "name": "python",
   "nbconvert_exporter": "python",
   "pygments_lexer": "ipython3",
   "version": "3.6.3"
  }
 },
 "nbformat": 4,
 "nbformat_minor": 2
}
